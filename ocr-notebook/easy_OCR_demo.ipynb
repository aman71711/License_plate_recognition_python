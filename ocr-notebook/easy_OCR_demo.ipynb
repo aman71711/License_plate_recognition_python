{
  "cells": [
    {
      "cell_type": "code",
      "execution_count": 1,
      "metadata": {
        "colab": {
          "base_uri": "https://localhost:8080/"
        },
        "id": "hD8TRh0rCSmO",
        "outputId": "c60b9fe5-37e5-4833-fbcc-248ceb569807"
      },
      "outputs": [
        {
          "name": "stdout",
          "output_type": "stream",
          "text": [
            "Requirement already satisfied: easyocr in c:\\users\\aman7\\anaconda3\\envs\\number\\lib\\site-packages (1.6.2)\n",
            "Requirement already satisfied: python-bidi in c:\\users\\aman7\\anaconda3\\envs\\number\\lib\\site-packages (from easyocr) (0.4.2)\n",
            "Requirement already satisfied: scipy in c:\\users\\aman7\\anaconda3\\envs\\number\\lib\\site-packages (from easyocr) (1.7.3)\n",
            "Requirement already satisfied: numpy in c:\\users\\aman7\\anaconda3\\envs\\number\\lib\\site-packages (from easyocr) (1.21.6)\n",
            "Requirement already satisfied: opencv-python-headless<=4.5.4.60 in c:\\users\\aman7\\anaconda3\\envs\\number\\lib\\site-packages (from easyocr) (4.5.4.60)\n",
            "Requirement already satisfied: torchvision>=0.5 in c:\\users\\aman7\\anaconda3\\envs\\number\\lib\\site-packages (from easyocr) (0.14.1)\n",
            "Requirement already satisfied: torch in c:\\users\\aman7\\anaconda3\\envs\\number\\lib\\site-packages (from easyocr) (1.13.1)\n",
            "Requirement already satisfied: PyYAML in c:\\users\\aman7\\anaconda3\\envs\\number\\lib\\site-packages (from easyocr) (6.0)\n",
            "Requirement already satisfied: ninja in c:\\users\\aman7\\anaconda3\\envs\\number\\lib\\site-packages (from easyocr) (1.11.1)\n",
            "Requirement already satisfied: pyclipper in c:\\users\\aman7\\anaconda3\\envs\\number\\lib\\site-packages (from easyocr) (1.3.0.post4)\n",
            "Requirement already satisfied: Pillow in c:\\users\\aman7\\anaconda3\\envs\\number\\lib\\site-packages (from easyocr) (9.5.0)\n",
            "Requirement already satisfied: Shapely in c:\\users\\aman7\\anaconda3\\envs\\number\\lib\\site-packages (from easyocr) (2.0.1)\n",
            "Requirement already satisfied: scikit-image in c:\\users\\aman7\\anaconda3\\envs\\number\\lib\\site-packages (from easyocr) (0.19.3)\n",
            "Requirement already satisfied: requests in c:\\users\\aman7\\anaconda3\\envs\\number\\lib\\site-packages (from torchvision>=0.5->easyocr) (2.30.0)\n",
            "Requirement already satisfied: typing-extensions in c:\\users\\aman7\\anaconda3\\envs\\number\\lib\\site-packages (from torchvision>=0.5->easyocr) (4.5.0)\n",
            "Requirement already satisfied: six in c:\\users\\aman7\\anaconda3\\envs\\number\\lib\\site-packages (from python-bidi->easyocr) (1.16.0)\n",
            "Requirement already satisfied: imageio>=2.4.1 in c:\\users\\aman7\\anaconda3\\envs\\number\\lib\\site-packages (from scikit-image->easyocr) (2.28.1)\n",
            "Requirement already satisfied: packaging>=20.0 in c:\\users\\aman7\\anaconda3\\envs\\number\\lib\\site-packages (from scikit-image->easyocr) (23.1)\n",
            "Requirement already satisfied: tifffile>=2019.7.26 in c:\\users\\aman7\\anaconda3\\envs\\number\\lib\\site-packages (from scikit-image->easyocr) (2021.11.2)\n",
            "Requirement already satisfied: networkx>=2.2 in c:\\users\\aman7\\anaconda3\\envs\\number\\lib\\site-packages (from scikit-image->easyocr) (2.6.3)\n",
            "Requirement already satisfied: PyWavelets>=1.1.1 in c:\\users\\aman7\\anaconda3\\envs\\number\\lib\\site-packages (from scikit-image->easyocr) (1.3.0)\n",
            "Requirement already satisfied: charset-normalizer<4,>=2 in c:\\users\\aman7\\anaconda3\\envs\\number\\lib\\site-packages (from requests->torchvision>=0.5->easyocr) (3.1.0)\n",
            "Requirement already satisfied: idna<4,>=2.5 in c:\\users\\aman7\\anaconda3\\envs\\number\\lib\\site-packages (from requests->torchvision>=0.5->easyocr) (3.4)\n",
            "Requirement already satisfied: urllib3<3,>=1.21.1 in c:\\users\\aman7\\anaconda3\\envs\\number\\lib\\site-packages (from requests->torchvision>=0.5->easyocr) (2.0.2)\n",
            "Requirement already satisfied: certifi>=2017.4.17 in c:\\users\\aman7\\anaconda3\\envs\\number\\lib\\site-packages (from requests->torchvision>=0.5->easyocr) (2022.12.7)\n",
            "Note: you may need to restart the kernel to use updated packages.\n"
          ]
        }
      ],
      "source": [
        "%pip install easyocr"
      ]
    },
    {
      "cell_type": "code",
      "execution_count": 1,
      "metadata": {
        "id": "6wKgPU52CZ6K"
      },
      "outputs": [],
      "source": [
        "import matplotlib.pyplot as plt\n",
        "import cv2\n",
        "import easyocr\n",
        "from IPython.display import Image"
      ]
    },
    {
      "cell_type": "code",
      "execution_count": 2,
      "metadata": {
        "colab": {
          "base_uri": "https://localhost:8080/",
          "height": 65
        },
        "id": "hxBLiy0AChPp",
        "outputId": "6f8e0eb9-eeaf-4561-dd16-50689139a125"
      },
      "outputs": [
        {
          "data": {
            "image/jpeg": "[encoded data removed]",
            "text/plain": [
              "<IPython.core.display.Image object>"
            ]
          },
          "execution_count": 2,
          "metadata": {},
          "output_type": "execute_result"
        }
      ],
      "source": [
        "Image(\"D:\\\\project python\\\\LPR_trained\\\\LPR\\\\runs\\\\detect\\\\cam\\\\_cam_0.jpg\")"
      ]
    },
    {
      "cell_type": "code",
      "execution_count": 3,
      "metadata": {
        "colab": {
          "base_uri": "https://localhost:8080/"
        },
        "id": "ZYD5fu4NCq2U",
        "outputId": "8a9390ef-9bad-443f-88d8-48411a496fc6"
      },
      "outputs": [
        {
          "name": "stderr",
          "output_type": "stream",
          "text": [
            "CUDA not available - defaulting to CPU. Note: This module is much faster with a GPU.\n"
          ]
        }
      ],
      "source": [
        "\n",
        "reader = easyocr.Reader(['en'])"
      ]
    },
    {
      "cell_type": "code",
      "execution_count": 4,
      "metadata": {
        "id": "ZCHP-450Cl9x"
      },
      "outputs": [],
      "source": [
        "\n",
        "output = reader.readtext(\"D:\\\\project python\\\\LPR_trained\\\\LPR\\\\runs\\\\detect\\\\cam\\\\_cam_0.jpg\")"
      ]
    },
    {
      "cell_type": "code",
      "execution_count": 11,
      "metadata": {
        "colab": {
          "base_uri": "https://localhost:8080/"
        },
        "id": "Ao44WMNJC_4R",
        "outputId": "4f9bc326-5f01-4871-9388-86c3726df528"
      },
      "outputs": [
        {
          "data": {
            "text/plain": [
              "[([[76, 8], [254, 8], [254, 34], [76, 34]],\n",
              "  'Number Plate',\n",
              "  0.5047681173916426),\n",
              " ([[59, 45], [316, 45], [316, 124], [59, 124]],\n",
              "  'R26do55su',\n",
              "  0.30620093022061756)]"
            ]
          },
          "execution_count": 11,
          "metadata": {},
          "output_type": "execute_result"
        }
      ],
      "source": [
        "output"
      ]
    },
    {
      "cell_type": "code",
      "execution_count": 18,
      "metadata": {
        "id": "SW8P4tA2DHKh"
      },
      "outputs": [
        {
          "data": {
            "text/plain": [
              "(316, 124)"
            ]
          },
          "execution_count": 18,
          "metadata": {},
          "output_type": "execute_result"
        }
      ],
      "source": [
        "cord = output[-1][0]\n",
        "cord\n",
        "a = list(zip(*cord))\n",
        "a\n",
        "min(a[0])\n",
        "min(a[1])\n",
        "max(a[0])\n",
        "max(a[1])\n",
        "x_min, y_min = [int(min(idx)) for idx in zip(*cord)]\n",
        "x_min, y_min\n",
        "x_max, y_max = [int(max(idx)) for idx in zip(*cord)]\n",
        "x_max, y_max\n",
        "\n",
        "\n",
        "\n"
      ]
    },
    {
      "cell_type": "code",
      "execution_count": 20,
      "metadata": {},
      "outputs": [
        {
          "ename": "error",
          "evalue": "OpenCV(4.5.4) D:\\a\\opencv-python\\opencv-python\\opencv\\modules\\imgproc\\src\\color.cpp:182: error: (-215:Assertion failed) !_src.empty() in function 'cv::cvtColor'\n",
          "output_type": "error",
          "traceback": [
            "\u001b[1;31m---------------------------------------------------------------------------\u001b[0m",
            "\u001b[1;31merror\u001b[0m                                     Traceback (most recent call last)",
            "\u001b[1;32m~\\AppData\\Local\\Temp\\ipykernel_15196\\2933996026.py\u001b[0m in \u001b[0;36m<module>\u001b[1;34m\u001b[0m\n\u001b[0;32m      3\u001b[0m \u001b[0mimage\u001b[0m \u001b[1;33m=\u001b[0m \u001b[0mcv2\u001b[0m\u001b[1;33m.\u001b[0m\u001b[0mimread\u001b[0m\u001b[1;33m(\u001b[0m\u001b[1;34m'\"D:\\\\project python\\\\LPR_trained\\\\LPR\\\\runs\\\\detect\\\\cam\\\\_cam_0.jpg\"'\u001b[0m\u001b[1;33m)\u001b[0m\u001b[1;33m\u001b[0m\u001b[1;33m\u001b[0m\u001b[0m\n\u001b[0;32m      4\u001b[0m \u001b[0mcv2\u001b[0m\u001b[1;33m.\u001b[0m\u001b[0mrectangle\u001b[0m\u001b[1;33m(\u001b[0m\u001b[0mimage\u001b[0m\u001b[1;33m,\u001b[0m\u001b[1;33m(\u001b[0m\u001b[0mx_min\u001b[0m\u001b[1;33m,\u001b[0m\u001b[0my_min\u001b[0m\u001b[1;33m)\u001b[0m\u001b[1;33m,\u001b[0m\u001b[1;33m(\u001b[0m\u001b[0mx_max\u001b[0m\u001b[1;33m,\u001b[0m\u001b[0my_max\u001b[0m\u001b[1;33m)\u001b[0m\u001b[1;33m,\u001b[0m\u001b[1;33m(\u001b[0m\u001b[1;36m0\u001b[0m\u001b[1;33m,\u001b[0m\u001b[1;36m0\u001b[0m\u001b[1;33m,\u001b[0m\u001b[1;36m255\u001b[0m\u001b[1;33m)\u001b[0m\u001b[1;33m,\u001b[0m\u001b[1;36m2\u001b[0m\u001b[1;33m)\u001b[0m\u001b[1;33m\u001b[0m\u001b[1;33m\u001b[0m\u001b[0m\n\u001b[1;32m----> 5\u001b[1;33m \u001b[0mplt\u001b[0m\u001b[1;33m.\u001b[0m\u001b[0mimshow\u001b[0m\u001b[1;33m(\u001b[0m\u001b[0mcv2\u001b[0m\u001b[1;33m.\u001b[0m\u001b[0mcvtColor\u001b[0m\u001b[1;33m(\u001b[0m\u001b[0mimage\u001b[0m\u001b[1;33m,\u001b[0m \u001b[0mcv2\u001b[0m\u001b[1;33m.\u001b[0m\u001b[0mCOLOR_BGR2RGB\u001b[0m\u001b[1;33m)\u001b[0m\u001b[1;33m)\u001b[0m\u001b[1;33m\u001b[0m\u001b[1;33m\u001b[0m\u001b[0m\n\u001b[0m",
            "\u001b[1;31merror\u001b[0m: OpenCV(4.5.4) D:\\a\\opencv-python\\opencv-python\\opencv\\modules\\imgproc\\src\\color.cpp:182: error: (-215:Assertion failed) !_src.empty() in function 'cv::cvtColor'\n"
          ]
        }
      ],
      "source": [
        "from pylab import rcParams\n",
        "rcParams['figure.figsize'] = 20, 30\n",
        "image = cv2.imread('\"D:\\\\project python\\\\LPR_trained\\\\LPR\\\\runs\\\\detect\\\\cam\\\\_cam_0.jpg\"')\n",
        "cv2.rectangle(image,(x_min,y_min),(x_max,y_max),(0,0,255),2)\n",
        "plt.imshow(cv2.cvtColor(image, cv2.COLOR_BGR2RGB))"
      ]
    }
  ],
  "metadata": {
    "accelerator": "GPU",
    "colab": {
      "provenance": []
    },
    "kernelspec": {
      "display_name": "Python 3",
      "name": "python3"
    },
    "language_info": {
      "codemirror_mode": {
        "name": "ipython",
        "version": 3
      },
      "file_extension": ".py",
      "mimetype": "text/x-python",
      "name": "python",
      "nbconvert_exporter": "python",
      "pygments_lexer": "ipython3",
      "version": "3.7.16"
    }
  },
  "nbformat": 4,
  "nbformat_minor": 0
}
